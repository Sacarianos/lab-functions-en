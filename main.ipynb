{
 "cells": [
  {
   "cell_type": "markdown",
   "metadata": {},
   "source": [
    "# Functions"
   ]
  },
  {
   "cell_type": "markdown",
   "metadata": {},
   "source": [
    "On this lab we will put to practice some of the concepts we have learned on this past few days.\n",
    "\n",
    "`NOTE: On this lab you should try to write all the functions yourself using only the most basic of python syntax and without functions such as len, count, sum, max, min, in, etc. Give it a try. 🧑🏻‍💻👩🏻‍💻`\n",
    "\n",
    "The cell after each exercise contains a few tests to check if your function works as expected."
   ]
  },
  {
   "cell_type": "code",
   "execution_count": 216,
   "metadata": {},
   "outputs": [],
   "source": [
    "from mod.testing import *\n",
    "import unittest"
   ]
  },
  {
   "cell_type": "markdown",
   "metadata": {},
   "source": [
    "## 1. Write a function that returns the greater of two numbers"
   ]
  },
  {
   "cell_type": "code",
   "execution_count": 217,
   "metadata": {},
   "outputs": [],
   "source": [
    "def greater(a,b):\n",
    "\n",
    "    if a>b:\n",
    "        return a\n",
    "    return b"
   ]
  },
  {
   "cell_type": "code",
   "execution_count": 218,
   "metadata": {},
   "outputs": [
    {
     "name": "stderr",
     "output_type": "stream",
     "text": [
      "....................................................................................................\n",
      "----------------------------------------------------------------------\n",
      "Ran 100 tests in 0.054s\n",
      "\n",
      "OK\n"
     ]
    }
   ],
   "source": [
    "# This will test your function \n",
    "test_greater(greater)"
   ]
  },
  {
   "cell_type": "markdown",
   "metadata": {},
   "source": [
    "## 2. Now write a function that returns the largest element on a list"
   ]
  },
  {
   "cell_type": "code",
   "execution_count": 245,
   "metadata": {},
   "outputs": [],
   "source": [
    "def greatest(list):\n",
    "    largest = list[0]\n",
    "    for e in list:\n",
    "        if e > largest:\n",
    "            largest = e\n",
    "\n",
    "    return largest"
   ]
  },
  {
   "cell_type": "code",
   "execution_count": 246,
   "metadata": {},
   "outputs": [
    {
     "name": "stderr",
     "output_type": "stream",
     "text": [
      "....................................................................................................\n",
      "----------------------------------------------------------------------\n",
      "Ran 100 tests in 0.045s\n",
      "\n",
      "OK\n"
     ]
    }
   ],
   "source": [
    "# This will test your function \n",
    "test_greatest(greatest)"
   ]
  },
  {
   "cell_type": "markdown",
   "metadata": {},
   "source": [
    "## 3. Write a function that sums all the elements on a list"
   ]
  },
  {
   "cell_type": "code",
   "execution_count": 221,
   "metadata": {},
   "outputs": [],
   "source": [
    "def sum_all(lst):\n",
    "    sum = 0\n",
    "    for e in lst:\n",
    "        sum += e\n",
    "\n",
    "    return sum"
   ]
  },
  {
   "cell_type": "code",
   "execution_count": 222,
   "metadata": {
    "scrolled": true
   },
   "outputs": [
    {
     "name": "stderr",
     "output_type": "stream",
     "text": [
      "....................................................................................................\n",
      "----------------------------------------------------------------------\n",
      "Ran 100 tests in 0.037s\n",
      "\n",
      "OK\n"
     ]
    }
   ],
   "source": [
    "# This will test your function \n",
    "test_sum(sum_all)"
   ]
  },
  {
   "cell_type": "markdown",
   "metadata": {},
   "source": [
    "## 4. Write another function that multiplies all the elements on a list"
   ]
  },
  {
   "cell_type": "code",
   "execution_count": 223,
   "metadata": {},
   "outputs": [],
   "source": [
    "def mult_all(lst):\n",
    "    result = 1 \n",
    "    for num in lst: \n",
    "        result *= num \n",
    "    return result"
   ]
  },
  {
   "cell_type": "code",
   "execution_count": 224,
   "metadata": {
    "scrolled": true
   },
   "outputs": [
    {
     "name": "stderr",
     "output_type": "stream",
     "text": [
      "....................................................................................................\n",
      "----------------------------------------------------------------------\n",
      "Ran 100 tests in 0.034s\n",
      "\n",
      "OK\n"
     ]
    }
   ],
   "source": [
    "# This will test your function \n",
    "test_mult(mult_all)"
   ]
  },
  {
   "cell_type": "markdown",
   "metadata": {},
   "source": [
    "## 5. Now combine those two ideas and write a function that receives a list and either \"+\" or \"*\" and outputs acordingly"
   ]
  },
  {
   "cell_type": "code",
   "execution_count": null,
   "metadata": {},
   "outputs": [],
   "source": [
    "def oper_all(lst, oper = \"*\"):\n",
    "    if oper == \"+\":  \n",
    "        total = 0 \n",
    "        for e in lst: \n",
    "            total += e \n",
    "            return total \n",
    "    elif oper == \"*\": \n",
    "        result = 1 \n",
    "        for e in lst: \n",
    "            result *= e \n",
    "        return result\n",
    "    "
   ]
  },
  {
   "cell_type": "code",
   "execution_count": 226,
   "metadata": {},
   "outputs": [
    {
     "name": "stderr",
     "output_type": "stream",
     "text": [
      "FF.F.FFF.FF.....FF.F...FF..FF..F..FF....FFF.F.F.FF......F.F.FFF.F.F.F..FFF..F...F..FFFFFF...FFF...F.\n",
      "======================================================================\n",
      "FAIL: runTest (mod.testing.test_operations.<locals>.TestKnown.runTest)\n",
      "----------------------------------------------------------------------\n",
      "Traceback (most recent call last):\n",
      "  File \"c:\\Users\\jaime\\workspace\\ironhack\\lab-functions-en\\mod\\testing.py\", line 78, in runTest\n",
      "    self.assertEqual(fn(*self.input), self.output, f\"Should be {self.output}\")\n",
      "AssertionError: 7 != 12 : Should be 12\n",
      "\n",
      "======================================================================\n",
      "FAIL: runTest (mod.testing.test_operations.<locals>.TestKnown.runTest)\n",
      "----------------------------------------------------------------------\n",
      "Traceback (most recent call last):\n",
      "  File \"c:\\Users\\jaime\\workspace\\ironhack\\lab-functions-en\\mod\\testing.py\", line 78, in runTest\n",
      "    self.assertEqual(fn(*self.input), self.output, f\"Should be {self.output}\")\n",
      "AssertionError: 6 != -56 : Should be -56\n",
      "\n",
      "======================================================================\n",
      "FAIL: runTest (mod.testing.test_operations.<locals>.TestKnown.runTest)\n",
      "----------------------------------------------------------------------\n",
      "Traceback (most recent call last):\n",
      "  File \"c:\\Users\\jaime\\workspace\\ironhack\\lab-functions-en\\mod\\testing.py\", line 78, in runTest\n",
      "    self.assertEqual(fn(*self.input), self.output, f\"Should be {self.output}\")\n",
      "AssertionError: 5 != -57 : Should be -57\n",
      "\n",
      "======================================================================\n",
      "FAIL: runTest (mod.testing.test_operations.<locals>.TestKnown.runTest)\n",
      "----------------------------------------------------------------------\n",
      "Traceback (most recent call last):\n",
      "  File \"c:\\Users\\jaime\\workspace\\ironhack\\lab-functions-en\\mod\\testing.py\", line 78, in runTest\n",
      "    self.assertEqual(fn(*self.input), self.output, f\"Should be {self.output}\")\n",
      "AssertionError: -6 != -64 : Should be -64\n",
      "\n",
      "======================================================================\n",
      "FAIL: runTest (mod.testing.test_operations.<locals>.TestKnown.runTest)\n",
      "----------------------------------------------------------------------\n",
      "Traceback (most recent call last):\n",
      "  File \"c:\\Users\\jaime\\workspace\\ironhack\\lab-functions-en\\mod\\testing.py\", line 78, in runTest\n",
      "    self.assertEqual(fn(*self.input), self.output, f\"Should be {self.output}\")\n",
      "AssertionError: 2 != 45 : Should be 45\n",
      "\n",
      "======================================================================\n",
      "FAIL: runTest (mod.testing.test_operations.<locals>.TestKnown.runTest)\n",
      "----------------------------------------------------------------------\n",
      "Traceback (most recent call last):\n",
      "  File \"c:\\Users\\jaime\\workspace\\ironhack\\lab-functions-en\\mod\\testing.py\", line 78, in runTest\n",
      "    self.assertEqual(fn(*self.input), self.output, f\"Should be {self.output}\")\n",
      "AssertionError: 2 != 36 : Should be 36\n",
      "\n",
      "======================================================================\n",
      "FAIL: runTest (mod.testing.test_operations.<locals>.TestKnown.runTest)\n",
      "----------------------------------------------------------------------\n",
      "Traceback (most recent call last):\n",
      "  File \"c:\\Users\\jaime\\workspace\\ironhack\\lab-functions-en\\mod\\testing.py\", line 78, in runTest\n",
      "    self.assertEqual(fn(*self.input), self.output, f\"Should be {self.output}\")\n",
      "AssertionError: 3 != 58 : Should be 58\n",
      "\n",
      "======================================================================\n",
      "FAIL: runTest (mod.testing.test_operations.<locals>.TestKnown.runTest)\n",
      "----------------------------------------------------------------------\n",
      "Traceback (most recent call last):\n",
      "  File \"c:\\Users\\jaime\\workspace\\ironhack\\lab-functions-en\\mod\\testing.py\", line 78, in runTest\n",
      "    self.assertEqual(fn(*self.input), self.output, f\"Should be {self.output}\")\n",
      "AssertionError: 10 != 121 : Should be 121\n",
      "\n",
      "======================================================================\n",
      "FAIL: runTest (mod.testing.test_operations.<locals>.TestKnown.runTest)\n",
      "----------------------------------------------------------------------\n",
      "Traceback (most recent call last):\n",
      "  File \"c:\\Users\\jaime\\workspace\\ironhack\\lab-functions-en\\mod\\testing.py\", line 78, in runTest\n",
      "    self.assertEqual(fn(*self.input), self.output, f\"Should be {self.output}\")\n",
      "AssertionError: 0 != 38 : Should be 38\n",
      "\n",
      "======================================================================\n",
      "FAIL: runTest (mod.testing.test_operations.<locals>.TestKnown.runTest)\n",
      "----------------------------------------------------------------------\n",
      "Traceback (most recent call last):\n",
      "  File \"c:\\Users\\jaime\\workspace\\ironhack\\lab-functions-en\\mod\\testing.py\", line 78, in runTest\n",
      "    self.assertEqual(fn(*self.input), self.output, f\"Should be {self.output}\")\n",
      "AssertionError: 1 != 10 : Should be 10\n",
      "\n",
      "======================================================================\n",
      "FAIL: runTest (mod.testing.test_operations.<locals>.TestKnown.runTest)\n",
      "----------------------------------------------------------------------\n",
      "Traceback (most recent call last):\n",
      "  File \"c:\\Users\\jaime\\workspace\\ironhack\\lab-functions-en\\mod\\testing.py\", line 78, in runTest\n",
      "    self.assertEqual(fn(*self.input), self.output, f\"Should be {self.output}\")\n",
      "AssertionError: -2 != 2 : Should be 2\n",
      "\n",
      "======================================================================\n",
      "FAIL: runTest (mod.testing.test_operations.<locals>.TestKnown.runTest)\n",
      "----------------------------------------------------------------------\n",
      "Traceback (most recent call last):\n",
      "  File \"c:\\Users\\jaime\\workspace\\ironhack\\lab-functions-en\\mod\\testing.py\", line 78, in runTest\n",
      "    self.assertEqual(fn(*self.input), self.output, f\"Should be {self.output}\")\n",
      "AssertionError: -5 != -29 : Should be -29\n",
      "\n",
      "======================================================================\n",
      "FAIL: runTest (mod.testing.test_operations.<locals>.TestKnown.runTest)\n",
      "----------------------------------------------------------------------\n",
      "Traceback (most recent call last):\n",
      "  File \"c:\\Users\\jaime\\workspace\\ironhack\\lab-functions-en\\mod\\testing.py\", line 78, in runTest\n",
      "    self.assertEqual(fn(*self.input), self.output, f\"Should be {self.output}\")\n",
      "AssertionError: 1 != 4 : Should be 4\n",
      "\n",
      "======================================================================\n",
      "FAIL: runTest (mod.testing.test_operations.<locals>.TestKnown.runTest)\n",
      "----------------------------------------------------------------------\n",
      "Traceback (most recent call last):\n",
      "  File \"c:\\Users\\jaime\\workspace\\ironhack\\lab-functions-en\\mod\\testing.py\", line 78, in runTest\n",
      "    self.assertEqual(fn(*self.input), self.output, f\"Should be {self.output}\")\n",
      "AssertionError: 2 != 9 : Should be 9\n",
      "\n",
      "======================================================================\n",
      "FAIL: runTest (mod.testing.test_operations.<locals>.TestKnown.runTest)\n",
      "----------------------------------------------------------------------\n",
      "Traceback (most recent call last):\n",
      "  File \"c:\\Users\\jaime\\workspace\\ironhack\\lab-functions-en\\mod\\testing.py\", line 78, in runTest\n",
      "    self.assertEqual(fn(*self.input), self.output, f\"Should be {self.output}\")\n",
      "AssertionError: -10 != 60 : Should be 60\n",
      "\n",
      "======================================================================\n",
      "FAIL: runTest (mod.testing.test_operations.<locals>.TestKnown.runTest)\n",
      "----------------------------------------------------------------------\n",
      "Traceback (most recent call last):\n",
      "  File \"c:\\Users\\jaime\\workspace\\ironhack\\lab-functions-en\\mod\\testing.py\", line 78, in runTest\n",
      "    self.assertEqual(fn(*self.input), self.output, f\"Should be {self.output}\")\n",
      "AssertionError: 8 != -1 : Should be -1\n",
      "\n",
      "======================================================================\n",
      "FAIL: runTest (mod.testing.test_operations.<locals>.TestKnown.runTest)\n",
      "----------------------------------------------------------------------\n",
      "Traceback (most recent call last):\n",
      "  File \"c:\\Users\\jaime\\workspace\\ironhack\\lab-functions-en\\mod\\testing.py\", line 78, in runTest\n",
      "    self.assertEqual(fn(*self.input), self.output, f\"Should be {self.output}\")\n",
      "AssertionError: -4 != -10 : Should be -10\n",
      "\n",
      "======================================================================\n",
      "FAIL: runTest (mod.testing.test_operations.<locals>.TestKnown.runTest)\n",
      "----------------------------------------------------------------------\n",
      "Traceback (most recent call last):\n",
      "  File \"c:\\Users\\jaime\\workspace\\ironhack\\lab-functions-en\\mod\\testing.py\", line 78, in runTest\n",
      "    self.assertEqual(fn(*self.input), self.output, f\"Should be {self.output}\")\n",
      "AssertionError: 7 != 44 : Should be 44\n",
      "\n",
      "======================================================================\n",
      "FAIL: runTest (mod.testing.test_operations.<locals>.TestKnown.runTest)\n",
      "----------------------------------------------------------------------\n",
      "Traceback (most recent call last):\n",
      "  File \"c:\\Users\\jaime\\workspace\\ironhack\\lab-functions-en\\mod\\testing.py\", line 78, in runTest\n",
      "    self.assertEqual(fn(*self.input), self.output, f\"Should be {self.output}\")\n",
      "AssertionError: 2 != 72 : Should be 72\n",
      "\n",
      "======================================================================\n",
      "FAIL: runTest (mod.testing.test_operations.<locals>.TestKnown.runTest)\n",
      "----------------------------------------------------------------------\n",
      "Traceback (most recent call last):\n",
      "  File \"c:\\Users\\jaime\\workspace\\ironhack\\lab-functions-en\\mod\\testing.py\", line 78, in runTest\n",
      "    self.assertEqual(fn(*self.input), self.output, f\"Should be {self.output}\")\n",
      "AssertionError: 3 != -8 : Should be -8\n",
      "\n",
      "======================================================================\n",
      "FAIL: runTest (mod.testing.test_operations.<locals>.TestKnown.runTest)\n",
      "----------------------------------------------------------------------\n",
      "Traceback (most recent call last):\n",
      "  File \"c:\\Users\\jaime\\workspace\\ironhack\\lab-functions-en\\mod\\testing.py\", line 78, in runTest\n",
      "    self.assertEqual(fn(*self.input), self.output, f\"Should be {self.output}\")\n",
      "AssertionError: -4 != 12 : Should be 12\n",
      "\n",
      "======================================================================\n",
      "FAIL: runTest (mod.testing.test_operations.<locals>.TestKnown.runTest)\n",
      "----------------------------------------------------------------------\n",
      "Traceback (most recent call last):\n",
      "  File \"c:\\Users\\jaime\\workspace\\ironhack\\lab-functions-en\\mod\\testing.py\", line 78, in runTest\n",
      "    self.assertEqual(fn(*self.input), self.output, f\"Should be {self.output}\")\n",
      "AssertionError: 0 != -99 : Should be -99\n",
      "\n",
      "======================================================================\n",
      "FAIL: runTest (mod.testing.test_operations.<locals>.TestKnown.runTest)\n",
      "----------------------------------------------------------------------\n",
      "Traceback (most recent call last):\n",
      "  File \"c:\\Users\\jaime\\workspace\\ironhack\\lab-functions-en\\mod\\testing.py\", line 78, in runTest\n",
      "    self.assertEqual(fn(*self.input), self.output, f\"Should be {self.output}\")\n",
      "AssertionError: 10 != -20 : Should be -20\n",
      "\n",
      "======================================================================\n",
      "FAIL: runTest (mod.testing.test_operations.<locals>.TestKnown.runTest)\n",
      "----------------------------------------------------------------------\n",
      "Traceback (most recent call last):\n",
      "  File \"c:\\Users\\jaime\\workspace\\ironhack\\lab-functions-en\\mod\\testing.py\", line 78, in runTest\n",
      "    self.assertEqual(fn(*self.input), self.output, f\"Should be {self.output}\")\n",
      "AssertionError: 9 != -45 : Should be -45\n",
      "\n",
      "======================================================================\n",
      "FAIL: runTest (mod.testing.test_operations.<locals>.TestKnown.runTest)\n",
      "----------------------------------------------------------------------\n",
      "Traceback (most recent call last):\n",
      "  File \"c:\\Users\\jaime\\workspace\\ironhack\\lab-functions-en\\mod\\testing.py\", line 78, in runTest\n",
      "    self.assertEqual(fn(*self.input), self.output, f\"Should be {self.output}\")\n",
      "AssertionError: 3 != -2 : Should be -2\n",
      "\n",
      "======================================================================\n",
      "FAIL: runTest (mod.testing.test_operations.<locals>.TestKnown.runTest)\n",
      "----------------------------------------------------------------------\n",
      "Traceback (most recent call last):\n",
      "  File \"c:\\Users\\jaime\\workspace\\ironhack\\lab-functions-en\\mod\\testing.py\", line 78, in runTest\n",
      "    self.assertEqual(fn(*self.input), self.output, f\"Should be {self.output}\")\n",
      "AssertionError: 9 != 55 : Should be 55\n",
      "\n",
      "======================================================================\n",
      "FAIL: runTest (mod.testing.test_operations.<locals>.TestKnown.runTest)\n",
      "----------------------------------------------------------------------\n",
      "Traceback (most recent call last):\n",
      "  File \"c:\\Users\\jaime\\workspace\\ironhack\\lab-functions-en\\mod\\testing.py\", line 78, in runTest\n",
      "    self.assertEqual(fn(*self.input), self.output, f\"Should be {self.output}\")\n",
      "AssertionError: -9 != -26 : Should be -26\n",
      "\n",
      "======================================================================\n",
      "FAIL: runTest (mod.testing.test_operations.<locals>.TestKnown.runTest)\n",
      "----------------------------------------------------------------------\n",
      "Traceback (most recent call last):\n",
      "  File \"c:\\Users\\jaime\\workspace\\ironhack\\lab-functions-en\\mod\\testing.py\", line 78, in runTest\n",
      "    self.assertEqual(fn(*self.input), self.output, f\"Should be {self.output}\")\n",
      "AssertionError: 3 != -9 : Should be -9\n",
      "\n",
      "======================================================================\n",
      "FAIL: runTest (mod.testing.test_operations.<locals>.TestKnown.runTest)\n",
      "----------------------------------------------------------------------\n",
      "Traceback (most recent call last):\n",
      "  File \"c:\\Users\\jaime\\workspace\\ironhack\\lab-functions-en\\mod\\testing.py\", line 78, in runTest\n",
      "    self.assertEqual(fn(*self.input), self.output, f\"Should be {self.output}\")\n",
      "AssertionError: -8 != -67 : Should be -67\n",
      "\n",
      "======================================================================\n",
      "FAIL: runTest (mod.testing.test_operations.<locals>.TestKnown.runTest)\n",
      "----------------------------------------------------------------------\n",
      "Traceback (most recent call last):\n",
      "  File \"c:\\Users\\jaime\\workspace\\ironhack\\lab-functions-en\\mod\\testing.py\", line 78, in runTest\n",
      "    self.assertEqual(fn(*self.input), self.output, f\"Should be {self.output}\")\n",
      "AssertionError: -3 != 35 : Should be 35\n",
      "\n",
      "======================================================================\n",
      "FAIL: runTest (mod.testing.test_operations.<locals>.TestKnown.runTest)\n",
      "----------------------------------------------------------------------\n",
      "Traceback (most recent call last):\n",
      "  File \"c:\\Users\\jaime\\workspace\\ironhack\\lab-functions-en\\mod\\testing.py\", line 78, in runTest\n",
      "    self.assertEqual(fn(*self.input), self.output, f\"Should be {self.output}\")\n",
      "AssertionError: 0 != -18 : Should be -18\n",
      "\n",
      "======================================================================\n",
      "FAIL: runTest (mod.testing.test_operations.<locals>.TestKnown.runTest)\n",
      "----------------------------------------------------------------------\n",
      "Traceback (most recent call last):\n",
      "  File \"c:\\Users\\jaime\\workspace\\ironhack\\lab-functions-en\\mod\\testing.py\", line 78, in runTest\n",
      "    self.assertEqual(fn(*self.input), self.output, f\"Should be {self.output}\")\n",
      "AssertionError: -6 != -47 : Should be -47\n",
      "\n",
      "======================================================================\n",
      "FAIL: runTest (mod.testing.test_operations.<locals>.TestKnown.runTest)\n",
      "----------------------------------------------------------------------\n",
      "Traceback (most recent call last):\n",
      "  File \"c:\\Users\\jaime\\workspace\\ironhack\\lab-functions-en\\mod\\testing.py\", line 78, in runTest\n",
      "    self.assertEqual(fn(*self.input), self.output, f\"Should be {self.output}\")\n",
      "AssertionError: 4 != 32 : Should be 32\n",
      "\n",
      "======================================================================\n",
      "FAIL: runTest (mod.testing.test_operations.<locals>.TestKnown.runTest)\n",
      "----------------------------------------------------------------------\n",
      "Traceback (most recent call last):\n",
      "  File \"c:\\Users\\jaime\\workspace\\ironhack\\lab-functions-en\\mod\\testing.py\", line 78, in runTest\n",
      "    self.assertEqual(fn(*self.input), self.output, f\"Should be {self.output}\")\n",
      "AssertionError: 6 != -142 : Should be -142\n",
      "\n",
      "======================================================================\n",
      "FAIL: runTest (mod.testing.test_operations.<locals>.TestKnown.runTest)\n",
      "----------------------------------------------------------------------\n",
      "Traceback (most recent call last):\n",
      "  File \"c:\\Users\\jaime\\workspace\\ironhack\\lab-functions-en\\mod\\testing.py\", line 78, in runTest\n",
      "    self.assertEqual(fn(*self.input), self.output, f\"Should be {self.output}\")\n",
      "AssertionError: -4 != -7 : Should be -7\n",
      "\n",
      "======================================================================\n",
      "FAIL: runTest (mod.testing.test_operations.<locals>.TestKnown.runTest)\n",
      "----------------------------------------------------------------------\n",
      "Traceback (most recent call last):\n",
      "  File \"c:\\Users\\jaime\\workspace\\ironhack\\lab-functions-en\\mod\\testing.py\", line 78, in runTest\n",
      "    self.assertEqual(fn(*self.input), self.output, f\"Should be {self.output}\")\n",
      "AssertionError: -3 != -21 : Should be -21\n",
      "\n",
      "======================================================================\n",
      "FAIL: runTest (mod.testing.test_operations.<locals>.TestKnown.runTest)\n",
      "----------------------------------------------------------------------\n",
      "Traceback (most recent call last):\n",
      "  File \"c:\\Users\\jaime\\workspace\\ironhack\\lab-functions-en\\mod\\testing.py\", line 78, in runTest\n",
      "    self.assertEqual(fn(*self.input), self.output, f\"Should be {self.output}\")\n",
      "AssertionError: -8 != 64 : Should be 64\n",
      "\n",
      "======================================================================\n",
      "FAIL: runTest (mod.testing.test_operations.<locals>.TestKnown.runTest)\n",
      "----------------------------------------------------------------------\n",
      "Traceback (most recent call last):\n",
      "  File \"c:\\Users\\jaime\\workspace\\ironhack\\lab-functions-en\\mod\\testing.py\", line 78, in runTest\n",
      "    self.assertEqual(fn(*self.input), self.output, f\"Should be {self.output}\")\n",
      "AssertionError: 1 != -18 : Should be -18\n",
      "\n",
      "======================================================================\n",
      "FAIL: runTest (mod.testing.test_operations.<locals>.TestKnown.runTest)\n",
      "----------------------------------------------------------------------\n",
      "Traceback (most recent call last):\n",
      "  File \"c:\\Users\\jaime\\workspace\\ironhack\\lab-functions-en\\mod\\testing.py\", line 78, in runTest\n",
      "    self.assertEqual(fn(*self.input), self.output, f\"Should be {self.output}\")\n",
      "AssertionError: -7 != -89 : Should be -89\n",
      "\n",
      "======================================================================\n",
      "FAIL: runTest (mod.testing.test_operations.<locals>.TestKnown.runTest)\n",
      "----------------------------------------------------------------------\n",
      "Traceback (most recent call last):\n",
      "  File \"c:\\Users\\jaime\\workspace\\ironhack\\lab-functions-en\\mod\\testing.py\", line 78, in runTest\n",
      "    self.assertEqual(fn(*self.input), self.output, f\"Should be {self.output}\")\n",
      "AssertionError: -8 != -52 : Should be -52\n",
      "\n",
      "======================================================================\n",
      "FAIL: runTest (mod.testing.test_operations.<locals>.TestKnown.runTest)\n",
      "----------------------------------------------------------------------\n",
      "Traceback (most recent call last):\n",
      "  File \"c:\\Users\\jaime\\workspace\\ironhack\\lab-functions-en\\mod\\testing.py\", line 78, in runTest\n",
      "    self.assertEqual(fn(*self.input), self.output, f\"Should be {self.output}\")\n",
      "AssertionError: 6 != 4 : Should be 4\n",
      "\n",
      "======================================================================\n",
      "FAIL: runTest (mod.testing.test_operations.<locals>.TestKnown.runTest)\n",
      "----------------------------------------------------------------------\n",
      "Traceback (most recent call last):\n",
      "  File \"c:\\Users\\jaime\\workspace\\ironhack\\lab-functions-en\\mod\\testing.py\", line 78, in runTest\n",
      "    self.assertEqual(fn(*self.input), self.output, f\"Should be {self.output}\")\n",
      "AssertionError: -10 != -46 : Should be -46\n",
      "\n",
      "======================================================================\n",
      "FAIL: runTest (mod.testing.test_operations.<locals>.TestKnown.runTest)\n",
      "----------------------------------------------------------------------\n",
      "Traceback (most recent call last):\n",
      "  File \"c:\\Users\\jaime\\workspace\\ironhack\\lab-functions-en\\mod\\testing.py\", line 78, in runTest\n",
      "    self.assertEqual(fn(*self.input), self.output, f\"Should be {self.output}\")\n",
      "AssertionError: -4 != -126 : Should be -126\n",
      "\n",
      "======================================================================\n",
      "FAIL: runTest (mod.testing.test_operations.<locals>.TestKnown.runTest)\n",
      "----------------------------------------------------------------------\n",
      "Traceback (most recent call last):\n",
      "  File \"c:\\Users\\jaime\\workspace\\ironhack\\lab-functions-en\\mod\\testing.py\", line 78, in runTest\n",
      "    self.assertEqual(fn(*self.input), self.output, f\"Should be {self.output}\")\n",
      "AssertionError: 4 != 161 : Should be 161\n",
      "\n",
      "======================================================================\n",
      "FAIL: runTest (mod.testing.test_operations.<locals>.TestKnown.runTest)\n",
      "----------------------------------------------------------------------\n",
      "Traceback (most recent call last):\n",
      "  File \"c:\\Users\\jaime\\workspace\\ironhack\\lab-functions-en\\mod\\testing.py\", line 78, in runTest\n",
      "    self.assertEqual(fn(*self.input), self.output, f\"Should be {self.output}\")\n",
      "AssertionError: 3 != 7 : Should be 7\n",
      "\n",
      "======================================================================\n",
      "FAIL: runTest (mod.testing.test_operations.<locals>.TestKnown.runTest)\n",
      "----------------------------------------------------------------------\n",
      "Traceback (most recent call last):\n",
      "  File \"c:\\Users\\jaime\\workspace\\ironhack\\lab-functions-en\\mod\\testing.py\", line 78, in runTest\n",
      "    self.assertEqual(fn(*self.input), self.output, f\"Should be {self.output}\")\n",
      "AssertionError: -9 != -47 : Should be -47\n",
      "\n",
      "======================================================================\n",
      "FAIL: runTest (mod.testing.test_operations.<locals>.TestKnown.runTest)\n",
      "----------------------------------------------------------------------\n",
      "Traceback (most recent call last):\n",
      "  File \"c:\\Users\\jaime\\workspace\\ironhack\\lab-functions-en\\mod\\testing.py\", line 78, in runTest\n",
      "    self.assertEqual(fn(*self.input), self.output, f\"Should be {self.output}\")\n",
      "AssertionError: 2 != 36 : Should be 36\n",
      "\n",
      "======================================================================\n",
      "FAIL: runTest (mod.testing.test_operations.<locals>.TestKnown.runTest)\n",
      "----------------------------------------------------------------------\n",
      "Traceback (most recent call last):\n",
      "  File \"c:\\Users\\jaime\\workspace\\ironhack\\lab-functions-en\\mod\\testing.py\", line 78, in runTest\n",
      "    self.assertEqual(fn(*self.input), self.output, f\"Should be {self.output}\")\n",
      "AssertionError: 7 != -24 : Should be -24\n",
      "\n",
      "----------------------------------------------------------------------\n",
      "Ran 100 tests in 0.044s\n",
      "\n",
      "FAILED (failures=48)\n"
     ]
    }
   ],
   "source": [
    "# This will test your function \n",
    "test_operations(oper_all)"
   ]
  },
  {
   "cell_type": "markdown",
   "metadata": {},
   "source": [
    "## 6. Write a function that returns the factorial of a number."
   ]
  },
  {
   "cell_type": "code",
   "execution_count": 227,
   "metadata": {},
   "outputs": [],
   "source": [
    "def factorial(n):\n",
    "    if n < 0:\n",
    "        return \"invalid input\"\n",
    "    elif n ==0 or  n==1:\n",
    "        return 1\n",
    "    else:\n",
    "        return n * factorial(n-1)"
   ]
  },
  {
   "cell_type": "code",
   "execution_count": 228,
   "metadata": {},
   "outputs": [],
   "source": [
    "#factorial formula\n",
    "#n! = n * ( n - 1 ) *...*1\n",
    "\n",
    "# This code defines a function called \"factorial\" which takes an input \"n\". The function uses a for loop to iterate through the range of numbers \n",
    "# from 1 to n+1. For each number in that range, it multiplies the current value of x by the number in the range. At the end of the loop, \n",
    "# the function returns the final value of x, which will be the factorial of the input number \"n\".\n",
    "\n",
    "# The Factorial of a positive integer n is the product of all positive integers less than or equal to n. \n",
    "# For example, the factorial of 6 (written \"6!\") is 6 * 5 * 4 * 3 * 2 * 1 = 720.\n",
    "\n",
    "# So this function takes an input of any positive integer, and returns the factorial of that number."
   ]
  },
  {
   "cell_type": "code",
   "execution_count": 229,
   "metadata": {},
   "outputs": [
    {
     "name": "stderr",
     "output_type": "stream",
     "text": [
      "....................................................................................................\n",
      "----------------------------------------------------------------------\n",
      "Ran 100 tests in 0.034s\n",
      "\n",
      "OK\n"
     ]
    }
   ],
   "source": [
    "# This will test your function \n",
    "test_factorial(factorial)"
   ]
  },
  {
   "cell_type": "markdown",
   "metadata": {},
   "source": [
    "## 7. Write a function that takes a list and returns a list of the unique values.\n",
    "\n",
    "`NOTE: You cannot use set. 🤔`"
   ]
  },
  {
   "cell_type": "code",
   "execution_count": 230,
   "metadata": {},
   "outputs": [],
   "source": [
    "def unique(lst_un):\n",
    "    unique = []\n",
    "    for e in lst_un:\n",
    "        if e not in unique:\n",
    "            unique.append(e)\n",
    "    return unique\n"
   ]
  },
  {
   "cell_type": "code",
   "execution_count": 231,
   "metadata": {},
   "outputs": [
    {
     "name": "stderr",
     "output_type": "stream",
     "text": [
      "....................................................................................................\n",
      "----------------------------------------------------------------------\n",
      "Ran 100 tests in 0.075s\n",
      "\n",
      "OK\n"
     ]
    }
   ],
   "source": [
    "# This will test your function \n",
    "test_unique(unique)"
   ]
  },
  {
   "cell_type": "markdown",
   "metadata": {},
   "source": [
    "## 8. Write a function that returns the mode of a list, i.e.: the element that appears the most times.\n",
    "`NOTE: You should not use count... 🧐`"
   ]
  },
  {
   "cell_type": "code",
   "execution_count": 232,
   "metadata": {},
   "outputs": [],
   "source": [
    "def mode_counter(arr):\n",
    "    dic = {}\n",
    "    for e in arr:\n",
    "        if e in dic:\n",
    "            dic[e]+=1\n",
    "        else:\n",
    "            dic[e] = 1\n",
    "    mode = None\n",
    "    count = 0\n",
    "\n",
    "    for key, value in dic.items(): \n",
    "        if value > count: \n",
    "            count = value \n",
    "            mode = key \n",
    "    return mode\n"
   ]
  },
  {
   "cell_type": "code",
   "execution_count": 233,
   "metadata": {},
   "outputs": [
    {
     "name": "stderr",
     "output_type": "stream",
     "text": [
      "....................................................................................................\n",
      "----------------------------------------------------------------------\n",
      "Ran 100 tests in 0.036s\n",
      "\n",
      "OK\n"
     ]
    }
   ],
   "source": [
    "# This will test your function \n",
    "test_mode(mode_counter)"
   ]
  },
  {
   "cell_type": "markdown",
   "metadata": {},
   "source": [
    "## 9. Write a function that calculates the standard deviation of a list.\n",
    "`NOTE: Do not use any libraries or already built functions. 😉`"
   ]
  },
  {
   "cell_type": "code",
   "execution_count": 247,
   "metadata": {},
   "outputs": [],
   "source": [
    "def st_dev(lst):\n",
    "    # Calculate the total sum and count\n",
    "    sum_all = 0\n",
    "    count = 0\n",
    "    for num in lst:\n",
    "        sum_all += num\n",
    "        count += 1\n",
    "    \n",
    "    # Calculate the mean\n",
    "    mean = sum_all / count\n",
    "    \n",
    "    # Calculate the variance\n",
    "    squared_diffs = []\n",
    "    for num in lst:\n",
    "        squared_diff = (num - mean) ** 2\n",
    "        squared_diffs.append(squared_diff)\n",
    "    \n",
    "    sum_squared_diffs = 0\n",
    "    for squared_diff in squared_diffs:\n",
    "        sum_squared_diffs += squared_diff\n",
    "\n",
    "    variance = sum_squared_diffs / (count - 1)  # use n - 1 for sample variance\n",
    "    \n",
    "    # Calculate the standard deviation\n",
    "    standard_deviation = variance ** 0.5\n",
    "    \n",
    "    return standard_deviation\n"
   ]
  },
  {
   "cell_type": "code",
   "execution_count": 248,
   "metadata": {},
   "outputs": [
    {
     "name": "stderr",
     "output_type": "stream",
     "text": [
      "....................................................................................................\n",
      "----------------------------------------------------------------------\n",
      "Ran 100 tests in 0.040s\n",
      "\n",
      "OK\n"
     ]
    }
   ],
   "source": [
    "# This will test your function \n",
    "test_stdev(st_dev)"
   ]
  },
  {
   "cell_type": "markdown",
   "metadata": {},
   "source": [
    "## 10. Write a function to check if a string is a pangram, i.e.: if it contains all the letters of the alphabet at least once. Mind that the strings may contain characters that are not letters."
   ]
  },
  {
   "cell_type": "code",
   "execution_count": 236,
   "metadata": {},
   "outputs": [],
   "source": [
    "def pangram(string):\n",
    "    alphabet = set(\"abcdefghijklmnopqrstuvwxyz\") \n",
    "    string = string.lower() \n",
    "    letters_in_s = {char for char in string if char.isalpha()} \n",
    "    return alphabet.issubset(letters_in_s)"
   ]
  },
  {
   "cell_type": "code",
   "execution_count": 237,
   "metadata": {},
   "outputs": [
    {
     "name": "stderr",
     "output_type": "stream",
     "text": [
      "..............................\n",
      "----------------------------------------------------------------------\n",
      "Ran 30 tests in 0.011s\n",
      "\n",
      "OK\n"
     ]
    }
   ],
   "source": [
    "# This will test your function \n",
    "test_pangram(pangram)"
   ]
  },
  {
   "cell_type": "markdown",
   "metadata": {},
   "source": [
    "## 11. Write a function that receives a string of comma separated words and returns a string of comma separated words sorted alphabetically.\n",
    "\n",
    "`NOTE: You may use sorted but not split and definitely no join! 🤪`"
   ]
  },
  {
   "cell_type": "code",
   "execution_count": 244,
   "metadata": {},
   "outputs": [],
   "source": [
    "def sort_alpha(s):\n",
    "    words = [] \n",
    "    word = \"\" \n",
    "    for char in s: \n",
    "        if char == \",\": \n",
    "            words.append(word) \n",
    "            word = \"\" \n",
    "        else: \n",
    "            word += char \n",
    "    words.append(word) # add the last word \n",
    "    sorted_words = sorted(words) \n",
    "    sorted_string = \"\" \n",
    "    for word in sorted_words: \n",
    "        if sorted_string: \n",
    "            sorted_string += \",\" \n",
    "        sorted_string += word \n",
    "    return sorted_string"
   ]
  },
  {
   "cell_type": "code",
   "execution_count": 239,
   "metadata": {},
   "outputs": [
    {
     "name": "stderr",
     "output_type": "stream",
     "text": [
      "....................................................................................................\n",
      "----------------------------------------------------------------------\n",
      "Ran 100 tests in 0.041s\n",
      "\n",
      "OK\n"
     ]
    }
   ],
   "source": [
    "# This will test your function \n",
    "test_alpha(sort_alpha)"
   ]
  },
  {
   "cell_type": "markdown",
   "metadata": {},
   "source": [
    "## 12. Write a function to check if a given password is strong (at least 8 characters, at least one lower case, at least one upper case, at least one number and at least one special character). It should output True if strong and False if not."
   ]
  },
  {
   "cell_type": "code",
   "execution_count": 242,
   "metadata": {},
   "outputs": [],
   "source": [
    "\n",
    "def check_pass(password):\n",
    "    if len(password) < 8: \n",
    "        return False \n",
    "    # Initialize flags \n",
    "    has_lower = False \n",
    "    has_upper = False \n",
    "    has_digit = False \n",
    "    has_special = False \n",
    "    \n",
    "    for char in password: \n",
    "        if char.islower(): \n",
    "            has_lower = True \n",
    "        elif char.isupper(): \n",
    "            has_upper = True \n",
    "        elif char.isdigit(): \n",
    "            has_digit = True \n",
    "        elif char in \"@$!%*?&#\": \n",
    "            has_special = True  \n",
    "    return has_lower and has_upper and has_digit and has_special"
   ]
  },
  {
   "cell_type": "code",
   "execution_count": 243,
   "metadata": {},
   "outputs": [
    {
     "name": "stderr",
     "output_type": "stream",
     "text": [
      "...............................F.F.............F............F.........FF..F...............F.........\n",
      "======================================================================\n",
      "FAIL: runTest (mod.testing.test_pass.<locals>.TestKnown.runTest)\n",
      "----------------------------------------------------------------------\n",
      "Traceback (most recent call last):\n",
      "  File \"c:\\Users\\jaime\\workspace\\ironhack\\lab-functions-en\\mod\\testing.py\", line 202, in runTest\n",
      "    self.assertEqual(fn(self.input), self.output, f\"Should be {self.output}\")\n",
      "AssertionError: False != True : Should be True\n",
      "\n",
      "======================================================================\n",
      "FAIL: runTest (mod.testing.test_pass.<locals>.TestKnown.runTest)\n",
      "----------------------------------------------------------------------\n",
      "Traceback (most recent call last):\n",
      "  File \"c:\\Users\\jaime\\workspace\\ironhack\\lab-functions-en\\mod\\testing.py\", line 202, in runTest\n",
      "    self.assertEqual(fn(self.input), self.output, f\"Should be {self.output}\")\n",
      "AssertionError: False != True : Should be True\n",
      "\n",
      "======================================================================\n",
      "FAIL: runTest (mod.testing.test_pass.<locals>.TestKnown.runTest)\n",
      "----------------------------------------------------------------------\n",
      "Traceback (most recent call last):\n",
      "  File \"c:\\Users\\jaime\\workspace\\ironhack\\lab-functions-en\\mod\\testing.py\", line 202, in runTest\n",
      "    self.assertEqual(fn(self.input), self.output, f\"Should be {self.output}\")\n",
      "AssertionError: False != True : Should be True\n",
      "\n",
      "======================================================================\n",
      "FAIL: runTest (mod.testing.test_pass.<locals>.TestKnown.runTest)\n",
      "----------------------------------------------------------------------\n",
      "Traceback (most recent call last):\n",
      "  File \"c:\\Users\\jaime\\workspace\\ironhack\\lab-functions-en\\mod\\testing.py\", line 202, in runTest\n",
      "    self.assertEqual(fn(self.input), self.output, f\"Should be {self.output}\")\n",
      "AssertionError: False != True : Should be True\n",
      "\n",
      "======================================================================\n",
      "FAIL: runTest (mod.testing.test_pass.<locals>.TestKnown.runTest)\n",
      "----------------------------------------------------------------------\n",
      "Traceback (most recent call last):\n",
      "  File \"c:\\Users\\jaime\\workspace\\ironhack\\lab-functions-en\\mod\\testing.py\", line 202, in runTest\n",
      "    self.assertEqual(fn(self.input), self.output, f\"Should be {self.output}\")\n",
      "AssertionError: False != True : Should be True\n",
      "\n",
      "======================================================================\n",
      "FAIL: runTest (mod.testing.test_pass.<locals>.TestKnown.runTest)\n",
      "----------------------------------------------------------------------\n",
      "Traceback (most recent call last):\n",
      "  File \"c:\\Users\\jaime\\workspace\\ironhack\\lab-functions-en\\mod\\testing.py\", line 202, in runTest\n",
      "    self.assertEqual(fn(self.input), self.output, f\"Should be {self.output}\")\n",
      "AssertionError: False != True : Should be True\n",
      "\n",
      "======================================================================\n",
      "FAIL: runTest (mod.testing.test_pass.<locals>.TestKnown.runTest)\n",
      "----------------------------------------------------------------------\n",
      "Traceback (most recent call last):\n",
      "  File \"c:\\Users\\jaime\\workspace\\ironhack\\lab-functions-en\\mod\\testing.py\", line 202, in runTest\n",
      "    self.assertEqual(fn(self.input), self.output, f\"Should be {self.output}\")\n",
      "AssertionError: False != True : Should be True\n",
      "\n",
      "======================================================================\n",
      "FAIL: runTest (mod.testing.test_pass.<locals>.TestKnown.runTest)\n",
      "----------------------------------------------------------------------\n",
      "Traceback (most recent call last):\n",
      "  File \"c:\\Users\\jaime\\workspace\\ironhack\\lab-functions-en\\mod\\testing.py\", line 202, in runTest\n",
      "    self.assertEqual(fn(self.input), self.output, f\"Should be {self.output}\")\n",
      "AssertionError: False != True : Should be True\n",
      "\n",
      "----------------------------------------------------------------------\n",
      "Ran 100 tests in 0.044s\n",
      "\n",
      "FAILED (failures=8)\n"
     ]
    }
   ],
   "source": [
    "# This will test your function \n",
    "test_pass(check_pass)"
   ]
  }
 ],
 "metadata": {
  "kernelspec": {
   "display_name": "Python 3",
   "language": "python",
   "name": "python3"
  },
  "language_info": {
   "codemirror_mode": {
    "name": "ipython",
    "version": 3
   },
   "file_extension": ".py",
   "mimetype": "text/x-python",
   "name": "python",
   "nbconvert_exporter": "python",
   "pygments_lexer": "ipython3",
   "version": "3.11.9"
  }
 },
 "nbformat": 4,
 "nbformat_minor": 4
}
